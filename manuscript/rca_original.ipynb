{
 "cells": [
  {
   "cell_type": "code",
   "execution_count": null,
   "metadata": {},
   "outputs": [],
   "source": [
    "import os\n",
    "os.chdir(\"..\")\n",
    "import pandas as pd"
   ]
  },
  {
   "attachments": {},
   "cell_type": "markdown",
   "metadata": {},
   "source": [
    "### <center> **Revealed Comparative Advantage** </center>\n",
    "\n",
    "\n",
    "Being $S_{cp}$ the share that a country *c* has to the global market for a good *p*, the matrix \"*shares*\" will be composed by the exports from every country different to *world* to the *world* (BuildingBlocksofEconomicComplexityAppendix.pdf page 3). So, the first step is to exclude *world* from the working data"
   ]
  },
  {
   "cell_type": "code",
   "execution_count": null,
   "metadata": {},
   "outputs": [],
   "source": [
    "shares = pd.read_csv('data_cleaned/data.csv')\n",
    "shares = shares[(shares['importer'] != 'world') & (shares['exporter'] == 'world')]\n",
    "shares.head()"
   ]
  },
  {
   "cell_type": "code",
   "execution_count": null,
   "metadata": {},
   "outputs": [],
   "source": [
    "shares = "
   ]
  },
  {
   "cell_type": "code",
   "execution_count": null,
   "metadata": {},
   "outputs": [],
   "source": [
    "plt.plot(shares[shares['Exporter']=='Australia']['RCA'], shares[shares['Exporter']=='Australia']['Kc0'], 'bo')"
   ]
  }
 ],
 "metadata": {
  "kernelspec": {
   "display_name": "Python 3",
   "language": "python",
   "name": "python3"
  },
  "language_info": {
   "name": "python",
   "version": "3.10.10"
  },
  "orig_nbformat": 4,
  "vscode": {
   "interpreter": {
    "hash": "e90f4682d4a1b852a30b0141bb736fb75eff518b9565efc977029e14f9f19b5c"
   }
  }
 },
 "nbformat": 4,
 "nbformat_minor": 2
}
